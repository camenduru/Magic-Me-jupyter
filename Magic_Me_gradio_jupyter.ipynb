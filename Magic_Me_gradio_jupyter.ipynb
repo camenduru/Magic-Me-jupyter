{
  "cells": [
    {
      "cell_type": "markdown",
      "metadata": {
        "id": "view-in-github"
      },
      "source": [
        "[![Open In Colab](https://colab.research.google.com/assets/colab-badge.svg)](https://colab.research.google.com/github/camenduru/Magic-Me-jupyter/blob/main/Magic_Me_gradio_jupyter.ipynb)"
      ]
    },
    {
      "cell_type": "code",
      "execution_count": null,
      "metadata": {
        "id": "VjYy0F2gZIPR"
      },
      "outputs": [],
      "source": [
        "%cd /content\n",
        "!git clone -b dev https://github.com/camenduru/Magic-Me-hf\n",
        "%cd /content/Magic-Me-hf\n",
        "\n",
        "!apt install -qq aria2\n",
        "!aria2c --console-log-level=error -c -x 16 -s 16 -k 1M https://huggingface.co/spaces/visionMaze/Magic-Me/resolve/main/custom_nodes/ComfyUI-AnimateDiff-Evolved/models/mm_sd_v15_v2.ckpt -d /content/Magic-Me-hf/custom_nodes/ComfyUI-AnimateDiff-Evolved/models -o mm_sd_v15_v2.ckpt\n",
        "!aria2c --console-log-level=error -c -x 16 -s 16 -k 1M https://huggingface.co/spaces/visionMaze/Magic-Me/resolve/main/custom_nodes/ComfyUI-AnimateDiff-Evolved/motion_lora/v2_lora_PanLeft.ckpt -d /content/Magic-Me-hf/custom_nodes/ComfyUI-AnimateDiff-Evolved/motion_lora -o v2_lora_PanLeft.ckpt\n",
        "!aria2c --console-log-level=error -c -x 16 -s 16 -k 1M https://huggingface.co/spaces/visionMaze/Magic-Me/resolve/main/custom_nodes/ComfyUI-AnimateDiff-Evolved/motion_lora/v2_lora_PanRight.ckpt -d /content/Magic-Me-hf/custom_nodes/ComfyUI-AnimateDiff-Evolved/motion_lora -o v2_lora_PanRight.ckpt\n",
        "!aria2c --console-log-level=error -c -x 16 -s 16 -k 1M https://huggingface.co/spaces/visionMaze/Magic-Me/resolve/main/custom_nodes/ComfyUI-AnimateDiff-Evolved/motion_lora/v2_lora_RollingAnticlockwise.ckpt -d /content/Magic-Me-hf/custom_nodes/ComfyUI-AnimateDiff-Evolved/motion_lora -o v2_lora_RollingAnticlockwise.ckpt\n",
        "!aria2c --console-log-level=error -c -x 16 -s 16 -k 1M https://huggingface.co/spaces/visionMaze/Magic-Me/resolve/main/custom_nodes/ComfyUI-AnimateDiff-Evolved/motion_lora/v2_lora_RollingClockwise.ckpt -d /content/Magic-Me-hf/custom_nodes/ComfyUI-AnimateDiff-Evolved/motion_lora -o v2_lora_RollingClockwise.ckpt\n",
        "!aria2c --console-log-level=error -c -x 16 -s 16 -k 1M https://huggingface.co/spaces/visionMaze/Magic-Me/resolve/main/custom_nodes/ComfyUI-AnimateDiff-Evolved/motion_lora/v2_lora_TiltDown.ckpt -d /content/Magic-Me-hf/custom_nodes/ComfyUI-AnimateDiff-Evolved/motion_lora -o v2_lora_TiltDown.ckpt\n",
        "!aria2c --console-log-level=error -c -x 16 -s 16 -k 1M https://huggingface.co/spaces/visionMaze/Magic-Me/resolve/main/custom_nodes/ComfyUI-AnimateDiff-Evolved/motion_lora/v2_lora_TiltUp.ckpt -d /content/Magic-Me-hf/custom_nodes/ComfyUI-AnimateDiff-Evolved/motion_lora -o v2_lora_TiltUp.ckpt\n",
        "!aria2c --console-log-level=error -c -x 16 -s 16 -k 1M https://huggingface.co/spaces/visionMaze/Magic-Me/resolve/main/custom_nodes/ComfyUI-AnimateDiff-Evolved/motion_lora/v2_lora_ZoomIn.ckpt -d /content/Magic-Me-hf/custom_nodes/ComfyUI-AnimateDiff-Evolved/motion_lora -o v2_lora_ZoomIn.ckpt\n",
        "!aria2c --console-log-level=error -c -x 16 -s 16 -k 1M https://huggingface.co/spaces/visionMaze/Magic-Me/resolve/main/custom_nodes/ComfyUI-AnimateDiff-Evolved/motion_lora/v2_lora_ZoomOut.ckpt -d /content/Magic-Me-hf/custom_nodes/ComfyUI-AnimateDiff-Evolved/motion_lora -o v2_lora_ZoomOut.ckpt\n",
        "!aria2c --console-log-level=error -c -x 16 -s 16 -k 1M https://huggingface.co/spaces/visionMaze/Magic-Me/resolve/main/models/checkpoints/rcnzCartoon3d_v10.safetensors -d /content/Magic-Me-hf/models/checkpoints -o rcnzCartoon3d_v10.safetensors\n",
        "!aria2c --console-log-level=error -c -x 16 -s 16 -k 1M https://huggingface.co/spaces/visionMaze/Magic-Me/resolve/main/models/checkpoints/realisticVision_v51.safetensors -d /content/Magic-Me-hf/models/checkpoints -o realisticVision_v51.safetensors\n",
        "!aria2c --console-log-level=error -c -x 16 -s 16 -k 1M https://huggingface.co/spaces/visionMaze/Magic-Me/resolve/main/models/embeddings/altman.pt -d /content/Magic-Me-hf/models/embeddings -o altman.pt\n",
        "!aria2c --console-log-level=error -c -x 16 -s 16 -k 1M https://huggingface.co/spaces/visionMaze/Magic-Me/resolve/main/models/embeddings/andrew_ng.pt -d /content/Magic-Me-hf/models/embeddings -o andrew_ng.pt\n",
        "!aria2c --console-log-level=error -c -x 16 -s 16 -k 1M https://huggingface.co/spaces/visionMaze/Magic-Me/resolve/main/models/embeddings/bengio.pt -d /content/Magic-Me-hf/models/embeddings -o bengio.pt\n",
        "!aria2c --console-log-level=error -c -x 16 -s 16 -k 1M https://huggingface.co/spaces/visionMaze/Magic-Me/resolve/main/models/embeddings/beyonce.pt -d /content/Magic-Me-hf/models/embeddings -o beyonce.pt\n",
        "!aria2c --console-log-level=error -c -x 16 -s 16 -k 1M https://huggingface.co/spaces/visionMaze/Magic-Me/resolve/main/models/embeddings/biden.pt -d /content/Magic-Me-hf/models/embeddings -o biden.pt\n",
        "!aria2c --console-log-level=error -c -x 16 -s 16 -k 1M https://huggingface.co/spaces/visionMaze/Magic-Me/resolve/main/models/embeddings/eli.pt -d /content/Magic-Me-hf/models/embeddings -o eli.pt\n",
        "!aria2c --console-log-level=error -c -x 16 -s 16 -k 1M https://huggingface.co/spaces/visionMaze/Magic-Me/resolve/main/models/embeddings/harry.pt -d /content/Magic-Me-hf/models/embeddings -o harry.pt\n",
        "!aria2c --console-log-level=error -c -x 16 -s 16 -k 1M https://huggingface.co/spaces/visionMaze/Magic-Me/resolve/main/models/embeddings/hermione.pt -d /content/Magic-Me-hf/models/embeddings -o hermione.pt\n",
        "!aria2c --console-log-level=error -c -x 16 -s 16 -k 1M https://huggingface.co/spaces/visionMaze/Magic-Me/resolve/main/models/embeddings/hinton.pt -d /content/Magic-Me-hf/models/embeddings -o hinton.pt\n",
        "!aria2c --console-log-level=error -c -x 16 -s 16 -k 1M https://huggingface.co/spaces/visionMaze/Magic-Me/resolve/main/models/embeddings/huang.pt -d /content/Magic-Me-hf/models/embeddings -o huang.pt\n",
        "!aria2c --console-log-level=error -c -x 16 -s 16 -k 1M https://huggingface.co/spaces/visionMaze/Magic-Me/resolve/main/models/embeddings/ironman.pt -d /content/Magic-Me-hf/models/embeddings -o ironman.pt\n",
        "!aria2c --console-log-level=error -c -x 16 -s 16 -k 1M https://huggingface.co/spaces/visionMaze/Magic-Me/resolve/main/models/embeddings/jack_chen.pt -d /content/Magic-Me-hf/models/embeddings -o jack_chen.pt\n",
        "!aria2c --console-log-level=error -c -x 16 -s 16 -k 1M https://huggingface.co/spaces/visionMaze/Magic-Me/resolve/main/models/embeddings/johnson.pt -d /content/Magic-Me-hf/models/embeddings -o johnson.pt\n",
        "!aria2c --console-log-level=error -c -x 16 -s 16 -k 1M https://huggingface.co/spaces/visionMaze/Magic-Me/resolve/main/models/embeddings/lecun.pt -d /content/Magic-Me-hf/models/embeddings -o lecun.pt\n",
        "!aria2c --console-log-level=error -c -x 16 -s 16 -k 1M https://huggingface.co/spaces/visionMaze/Magic-Me/resolve/main/models/embeddings/lifeifei.pt -d /content/Magic-Me-hf/models/embeddings -o lifeifei.pt\n",
        "!aria2c --console-log-level=error -c -x 16 -s 16 -k 1M https://huggingface.co/spaces/visionMaze/Magic-Me/resolve/main/models/embeddings/mona.pt -d /content/Magic-Me-hf/models/embeddings -o mona.pt\n",
        "!aria2c --console-log-level=error -c -x 16 -s 16 -k 1M https://huggingface.co/spaces/visionMaze/Magic-Me/resolve/main/models/embeddings/monroe.pt -d /content/Magic-Me-hf/models/embeddings -o monroe.pt\n",
        "!aria2c --console-log-level=error -c -x 16 -s 16 -k 1M https://huggingface.co/spaces/visionMaze/Magic-Me/resolve/main/models/embeddings/musk.pt -d /content/Magic-Me-hf/models/embeddings -o musk.pt\n",
        "!aria2c --console-log-level=error -c -x 16 -s 16 -k 1M https://huggingface.co/spaces/visionMaze/Magic-Me/resolve/main/models/embeddings/obama.pt -d /content/Magic-Me-hf/models/embeddings -o obama.pt\n",
        "!aria2c --console-log-level=error -c -x 16 -s 16 -k 1M https://huggingface.co/spaces/visionMaze/Magic-Me/resolve/main/models/embeddings/scarlett.pt -d /content/Magic-Me-hf/models/embeddings -o scarlett.pt\n",
        "!aria2c --console-log-level=error -c -x 16 -s 16 -k 1M https://huggingface.co/spaces/visionMaze/Magic-Me/resolve/main/models/embeddings/taylor.pt -d /content/Magic-Me-hf/models/embeddings -o taylor.pt\n",
        "!aria2c --console-log-level=error -c -x 16 -s 16 -k 1M https://huggingface.co/spaces/visionMaze/Magic-Me/resolve/main/models/embeddings/trump.pt -d /content/Magic-Me-hf/models/embeddings -o trump.pt\n",
        "!aria2c --console-log-level=error -c -x 16 -s 16 -k 1M https://huggingface.co/spaces/visionMaze/Magic-Me/resolve/main/models/embeddings/zuck.pt -d /content/Magic-Me-hf/models/embeddings -o zuck.pt\n",
        "!aria2c --console-log-level=error -c -x 16 -s 16 -k 1M https://huggingface.co/spaces/visionMaze/Magic-Me/resolve/main/models/sams/sam_vit_b_01ec64.pth -d /content/Magic-Me-hf/models/sams -o sam_vit_b_01ec64.pth\n",
        "!aria2c --console-log-level=error -c -x 16 -s 16 -k 1M https://huggingface.co/spaces/visionMaze/Magic-Me/resolve/main/models/ultralytics/bbox/face_yolov8m.pt -d /content/Magic-Me-hf/models/ultralytics/bbox -o face_yolov8m.pt\n",
        "!aria2c --console-log-level=error -c -x 16 -s 16 -k 1M https://huggingface.co/spaces/visionMaze/Magic-Me/resolve/main/models/ultralytics/bbox/hand_yolov8s.pt -d /content/Magic-Me-hf/models/ultralytics/bbox -o hand_yolov8s.pt\n",
        "!aria2c --console-log-level=error -c -x 16 -s 16 -k 1M https://huggingface.co/spaces/visionMaze/Magic-Me/resolve/main/models/ultralytics/segm/person_yolov8m-seg.pt -d /content/Magic-Me-hf/models/ultralytics/segm -o person_yolov8m-seg.pt\n",
        "!aria2c --console-log-level=error -c -x 16 -s 16 -k 1M https://huggingface.co/spaces/visionMaze/Magic-Me/resolve/main/models/upscale_models/4xUltrasharpV10.pt -d /content/Magic-Me-hf/models/upscale_models -o 4xUltrasharpV10.pt\n",
        "!aria2c --console-log-level=error -c -x 16 -s 16 -k 1M https://huggingface.co/spaces/visionMaze/Magic-Me/resolve/main/models/vae/vae-ft-mse-840000-ema-pruned.safetensors -d /content/Magic-Me-hf/models/vae -o vae-ft-mse-840000-ema-pruned.safetensors\n",
        "\n",
        "!pip install -q gradio==3.50.2 einops torchsde\n",
        "\n",
        "!python app.py"
      ]
    }
  ],
  "metadata": {
    "accelerator": "GPU",
    "colab": {
      "gpuType": "T4",
      "provenance": []
    },
    "kernelspec": {
      "display_name": "Python 3",
      "name": "python3"
    },
    "language_info": {
      "name": "python"
    }
  },
  "nbformat": 4,
  "nbformat_minor": 0
}
